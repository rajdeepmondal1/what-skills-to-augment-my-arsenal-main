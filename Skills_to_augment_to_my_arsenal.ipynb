{
  "nbformat": 4,
  "nbformat_minor": 0,
  "metadata": {
    "colab": {
      "name": "Skills to augment to my arsenal",
      "provenance": [],
      "collapsed_sections": [],
      "authorship_tag": "ABX9TyNAw2st2BHV+2YUOW8zR3q9"
    },
    "kernelspec": {
      "name": "python3",
      "display_name": "Python 3"
    },
    "language_info": {
      "name": "python"
    }
  },
  "cells": [
    {
      "cell_type": "markdown",
      "source": [
        "# Using Intelligence from Indeed Job postings to augment my skills."
      ],
      "metadata": {
        "id": "v7v6tYlKuNTl"
      }
    },
    {
      "cell_type": "markdown",
      "source": [
        "## 1. Problem statement\n",
        "I am confused on what skills are most relevant in the current job market. So after learning Ensemble learning, I loved the concept and thought of applying that idea to find my skills gap using ensemble of relevant skill data from the Indeed job posting. More like an wisdom of crowd approach. So I am aiming to find relevant skills that I should learn next before applying for my next Job to improve my odds of getting hired, and feel more confident."
      ],
      "metadata": {
        "id": "jx08KnRou6wO"
      }
    },
    {
      "cell_type": "markdown",
      "source": [
        "## 2. Approach\n",
        "First we will download data from Indeed. I made a web scraper https://github.com/rajdeepmondal1/indeed-job-scraper that scrapes the https://in.indeed.com/ website for our essential data after searching for Data Scientist, Data Engineer, Data Science Consultant, Data Analyst and Machine Learning Engineer. Since the lines are blurry about what a Data Scientist does, we scrape data about these adjacent titles to remove bias in our data. Indeed website offers millions of searchable job listings, posted by understaffed employers. It has a built-in search engine, which allows us to filter the jobs by keyword. We will download the required information and store it in separate html files for the job listings.\n",
        "\n",
        "Our goal is to extract common data science and machine learning skills from the downloaded data. We’ll then compare these skills to our skills to determine which skills are missing. To reach our goal, we’ll proceed like this:\n",
        " - Parse out all the text from the downloaded HTML files.\n",
        " - Explore the parsed output to learn how job skills are commonly described in online postings. Perhaps specific HTML tags are more commonly used to underscore job skills.\n",
        " - Try to filter out any irrelevant job postings from our dataset. The search engine isn’t perfect. Perhaps some irrelevant postings were erroneously downloaded. We can evaluate relevance by comparing the postings with our skill list.\n",
        " - Cluster the job skills within the relevant postings, and visualize the clusters.\n",
        " - Make a plan to improve on the skills that are missing."
      ],
      "metadata": {
        "id": "13K5X5JAwj5b"
      }
    },
    {
      "cell_type": "code",
      "execution_count": 1,
      "metadata": {
        "id": "Gq-YWC2nd_md"
      },
      "outputs": [],
      "source": [
        "import zipfile\n",
        "\n",
        "def unzip_data(filename):\n",
        "  \"\"\"\n",
        "  Unzips filename into the current working directory.\n",
        "  Args:\n",
        "    filename (str): a filepath to a target zip folder to be unzipped.\n",
        "  \"\"\"\n",
        "  zip_ref = zipfile.ZipFile(filename, \"r\")\n",
        "  zip_ref.extractall()\n",
        "  zip_ref.close()"
      ]
    },
    {
      "cell_type": "code",
      "source": [
        "!git clone https://github.com/rajdeepmondal1/what-skills-to-augment-my-arsenal-main"
      ],
      "metadata": {
        "colab": {
          "base_uri": "https://localhost:8080/"
        },
        "id": "GFBt6b3TtKNK",
        "outputId": "9c6e72dd-f738-4cd2-a160-09af862f99ea"
      },
      "execution_count": 5,
      "outputs": [
        {
          "output_type": "stream",
          "name": "stdout",
          "text": [
            "Cloning into 'what-skills-to-augment-my-arsenal-main'...\n",
            "remote: Enumerating objects: 10, done.\u001b[K\n",
            "remote: Counting objects: 100% (10/10), done.\u001b[K\n",
            "remote: Compressing objects: 100% (10/10), done.\u001b[K\n",
            "remote: Total 10 (delta 1), reused 6 (delta 0), pack-reused 0\u001b[K\n",
            "Unpacking objects: 100% (10/10), done.\n"
          ]
        }
      ]
    },
    {
      "cell_type": "code",
      "source": [
        "data_location = '/content/what-skills-to-augment-my-arsenal-main/data/data_2161_listings.zip'"
      ],
      "metadata": {
        "id": "9iibCDGDtSm6"
      },
      "execution_count": 6,
      "outputs": []
    },
    {
      "cell_type": "code",
      "source": [
        "unzip_data(data_location)"
      ],
      "metadata": {
        "id": "qD5xqgz9tZ6Y"
      },
      "execution_count": 7,
      "outputs": []
    },
    {
      "cell_type": "markdown",
      "source": [
        "## 3. Dataset description\n",
        "I have scraped a total of 2161 listings using https://github.com/rajdeepmondal1/indeed-job-scraper from https://in.indeed.com/ including -\n",
        " - Data Scientist with 735 listings\n",
        " - Machine Learning Engineer with 654 listings\n",
        " - Data Engineer with 317 listings\n",
        " - Data Science Consultant with 151 listings\n",
        " - Data Analyst with 304 listings\n",
        "The title, company name, ratings and job description was scraped from the website for each listing.\n",
        "\n",
        "Our rough draft of skills are stored in the skills.txt file."
      ],
      "metadata": {
        "id": "jpWlV2d3xU1V"
      }
    },
    {
      "cell_type": "markdown",
      "source": [
        "We will proceed as follows:\n",
        "\n",
        "1. Parse all text from the downloaded HTML files.\n",
        "2. Explore the parsed output to learn how job skills are described in online postings. We’ll pay particular attention to whether certain HTML tags are more associated with skill descriptions.\n",
        "3. Attempt to filter any irrelevant job postings from our dataset.\n",
        "4. Cluster job skills based on text similarity.\n",
        "5. Visualize the clusters using word clouds.\n",
        "6. Adjust clustering parameters, if necessary, to improve the visualized output.\n",
        "7. Compare the clustered skills to our resume to uncover missing skills."
      ],
      "metadata": {
        "id": "JpJRsQCnx8_D"
      }
    },
    {
      "cell_type": "markdown",
      "source": [
        "## 4. Extracting skill requirements from job posting data"
      ],
      "metadata": {
        "id": "vEPTa2vXyRjE"
      }
    },
    {
      "cell_type": "markdown",
      "source": [
        "### 4.1. Loading HTML files"
      ],
      "metadata": {
        "id": "-tGbnYczyVep"
      }
    },
    {
      "cell_type": "code",
      "source": [
        "import glob\n",
        "\n",
        "# Evading any warnings\n",
        "import warnings\n",
        "warnings.filterwarnings('ignore')"
      ],
      "metadata": {
        "id": "vVI_NSMCyb1n"
      },
      "execution_count": 17,
      "outputs": []
    },
    {
      "cell_type": "code",
      "source": [
        "html_contents = []\n",
        "\n",
        "for file_name in sorted(glob.glob('/content/data_2161_listings/*/*.html')):\n",
        "    with open(file_name, encoding=\"utf8\") as f:\n",
        "        html_contents.append(f.read())\n",
        "        \n",
        "print(f\"We've loaded {len(html_contents)} HTML files.\")"
      ],
      "metadata": {
        "colab": {
          "base_uri": "https://localhost:8080/"
        },
        "id": "60Ll0C5Gtcya",
        "outputId": "bc8b648f-cb25-4e9e-f558-6b180c1bd792"
      },
      "execution_count": 18,
      "outputs": [
        {
          "output_type": "stream",
          "name": "stdout",
          "text": [
            "We've loaded 2161 HTML files.\n"
          ]
        }
      ]
    },
    {
      "cell_type": "markdown",
      "source": [
        "### 4.2. Parsing HTML files"
      ],
      "metadata": {
        "id": "ylTpa6Fly45x"
      }
    },
    {
      "cell_type": "code",
      "source": [
        "# import beautiful soup\n",
        "from bs4 import BeautifulSoup as bs"
      ],
      "metadata": {
        "id": "84qkkk49y-3c"
      },
      "execution_count": 19,
      "outputs": []
    },
    {
      "cell_type": "code",
      "source": [
        "soup_objects = []\n",
        "\n",
        "# parse through all the html file and store it in soup objects\n",
        "for html in html_contents:\n",
        "    soup = bs(html)\n",
        "    soup_objects.append(soup)"
      ],
      "metadata": {
        "id": "0UNYZb3DynmC"
      },
      "execution_count": 20,
      "outputs": []
    },
    {
      "cell_type": "markdown",
      "source": [
        "### 4.3. Extracting Title, Company Name and Description into their own variables."
      ],
      "metadata": {
        "id": "RApFUefgzHgG"
      }
    },
    {
      "cell_type": "code",
      "source": [
        "# import pandas\n",
        "import pandas as pd"
      ],
      "metadata": {
        "id": "WNIphCg9zLpm"
      },
      "execution_count": 21,
      "outputs": []
    },
    {
      "cell_type": "code",
      "source": [
        "# dictionary to store values of title, company name and description\n",
        "html_dict = {\n",
        "    'title': [],\n",
        "    'company_name': [],\n",
        "    'description': []\n",
        "    }\n",
        "\n",
        "for soup in soup_objects:\n",
        "    try:\n",
        "        # try to get the title using the class tag 'jobsearch-JobInfoHeader-title'\n",
        "        title = soup.findAll('h1', class_='jobsearch-JobInfoHeader-title')[0].text.strip()\n",
        "    except:\n",
        "        title = None  \n",
        "        \n",
        "    try:\n",
        "        # try to get the company rating using the class tag 'jobsearch-InlineCompanyRating'\n",
        "        company_temp = soup.findAll('div', class_='jobsearch-InlineCompanyRating')[0]\n",
        "    except:\n",
        "        pass\n",
        "    \n",
        "    try:\n",
        "        # try to get the company name\n",
        "        company_name = company_temp.findAll('a')[0].text.strip()\n",
        "    except:\n",
        "        company_name = None\n",
        "        \n",
        "    # .decompose() removes a tag from the tree, then completely destroys it and its contents\n",
        "    soup.findAll('h1', class_='jobsearch-JobInfoHeader-title')[0].decompose()\n",
        "    soup.findAll('div', class_='jobsearch-InlineCompanyRating')[0].decompose()\n",
        "    # after the decompose function removes these elements we can take the rest as description\n",
        "    description = soup.text.strip()\n",
        "    html_dict['title'].append(title)\n",
        "    html_dict['company_name'].append(company_name)\n",
        "    html_dict['description'].append(description)\n",
        "    \n",
        "df_jobs = pd.DataFrame(html_dict)\n",
        "df_jobs[['title', 'company_name']].describe()"
      ],
      "metadata": {
        "colab": {
          "base_uri": "https://localhost:8080/",
          "height": 174
        },
        "id": "7f48eS-ZzDtI",
        "outputId": "7b46f424-077e-43ff-8cbc-bd5592a03a51"
      },
      "execution_count": 22,
      "outputs": [
        {
          "output_type": "execute_result",
          "data": {
            "text/plain": [
              "                 title company_name\n",
              "count             2161         1270\n",
              "unique             979          404\n",
              "top     Data Scientist          IBM\n",
              "freq               204           37"
            ],
            "text/html": [
              "\n",
              "  <div id=\"df-62d0a191-ae59-402c-a6fe-25195e96447c\">\n",
              "    <div class=\"colab-df-container\">\n",
              "      <div>\n",
              "<style scoped>\n",
              "    .dataframe tbody tr th:only-of-type {\n",
              "        vertical-align: middle;\n",
              "    }\n",
              "\n",
              "    .dataframe tbody tr th {\n",
              "        vertical-align: top;\n",
              "    }\n",
              "\n",
              "    .dataframe thead th {\n",
              "        text-align: right;\n",
              "    }\n",
              "</style>\n",
              "<table border=\"1\" class=\"dataframe\">\n",
              "  <thead>\n",
              "    <tr style=\"text-align: right;\">\n",
              "      <th></th>\n",
              "      <th>title</th>\n",
              "      <th>company_name</th>\n",
              "    </tr>\n",
              "  </thead>\n",
              "  <tbody>\n",
              "    <tr>\n",
              "      <th>count</th>\n",
              "      <td>2161</td>\n",
              "      <td>1270</td>\n",
              "    </tr>\n",
              "    <tr>\n",
              "      <th>unique</th>\n",
              "      <td>979</td>\n",
              "      <td>404</td>\n",
              "    </tr>\n",
              "    <tr>\n",
              "      <th>top</th>\n",
              "      <td>Data Scientist</td>\n",
              "      <td>IBM</td>\n",
              "    </tr>\n",
              "    <tr>\n",
              "      <th>freq</th>\n",
              "      <td>204</td>\n",
              "      <td>37</td>\n",
              "    </tr>\n",
              "  </tbody>\n",
              "</table>\n",
              "</div>\n",
              "      <button class=\"colab-df-convert\" onclick=\"convertToInteractive('df-62d0a191-ae59-402c-a6fe-25195e96447c')\"\n",
              "              title=\"Convert this dataframe to an interactive table.\"\n",
              "              style=\"display:none;\">\n",
              "        \n",
              "  <svg xmlns=\"http://www.w3.org/2000/svg\" height=\"24px\"viewBox=\"0 0 24 24\"\n",
              "       width=\"24px\">\n",
              "    <path d=\"M0 0h24v24H0V0z\" fill=\"none\"/>\n",
              "    <path d=\"M18.56 5.44l.94 2.06.94-2.06 2.06-.94-2.06-.94-.94-2.06-.94 2.06-2.06.94zm-11 1L8.5 8.5l.94-2.06 2.06-.94-2.06-.94L8.5 2.5l-.94 2.06-2.06.94zm10 10l.94 2.06.94-2.06 2.06-.94-2.06-.94-.94-2.06-.94 2.06-2.06.94z\"/><path d=\"M17.41 7.96l-1.37-1.37c-.4-.4-.92-.59-1.43-.59-.52 0-1.04.2-1.43.59L10.3 9.45l-7.72 7.72c-.78.78-.78 2.05 0 2.83L4 21.41c.39.39.9.59 1.41.59.51 0 1.02-.2 1.41-.59l7.78-7.78 2.81-2.81c.8-.78.8-2.07 0-2.86zM5.41 20L4 18.59l7.72-7.72 1.47 1.35L5.41 20z\"/>\n",
              "  </svg>\n",
              "      </button>\n",
              "      \n",
              "  <style>\n",
              "    .colab-df-container {\n",
              "      display:flex;\n",
              "      flex-wrap:wrap;\n",
              "      gap: 12px;\n",
              "    }\n",
              "\n",
              "    .colab-df-convert {\n",
              "      background-color: #E8F0FE;\n",
              "      border: none;\n",
              "      border-radius: 50%;\n",
              "      cursor: pointer;\n",
              "      display: none;\n",
              "      fill: #1967D2;\n",
              "      height: 32px;\n",
              "      padding: 0 0 0 0;\n",
              "      width: 32px;\n",
              "    }\n",
              "\n",
              "    .colab-df-convert:hover {\n",
              "      background-color: #E2EBFA;\n",
              "      box-shadow: 0px 1px 2px rgba(60, 64, 67, 0.3), 0px 1px 3px 1px rgba(60, 64, 67, 0.15);\n",
              "      fill: #174EA6;\n",
              "    }\n",
              "\n",
              "    [theme=dark] .colab-df-convert {\n",
              "      background-color: #3B4455;\n",
              "      fill: #D2E3FC;\n",
              "    }\n",
              "\n",
              "    [theme=dark] .colab-df-convert:hover {\n",
              "      background-color: #434B5C;\n",
              "      box-shadow: 0px 1px 3px 1px rgba(0, 0, 0, 0.15);\n",
              "      filter: drop-shadow(0px 1px 2px rgba(0, 0, 0, 0.3));\n",
              "      fill: #FFFFFF;\n",
              "    }\n",
              "  </style>\n",
              "\n",
              "      <script>\n",
              "        const buttonEl =\n",
              "          document.querySelector('#df-62d0a191-ae59-402c-a6fe-25195e96447c button.colab-df-convert');\n",
              "        buttonEl.style.display =\n",
              "          google.colab.kernel.accessAllowed ? 'block' : 'none';\n",
              "\n",
              "        async function convertToInteractive(key) {\n",
              "          const element = document.querySelector('#df-62d0a191-ae59-402c-a6fe-25195e96447c');\n",
              "          const dataTable =\n",
              "            await google.colab.kernel.invokeFunction('convertToInteractive',\n",
              "                                                     [key], {});\n",
              "          if (!dataTable) return;\n",
              "\n",
              "          const docLinkHtml = 'Like what you see? Visit the ' +\n",
              "            '<a target=\"_blank\" href=https://colab.research.google.com/notebooks/data_table.ipynb>data table notebook</a>'\n",
              "            + ' to learn more about interactive tables.';\n",
              "          element.innerHTML = '';\n",
              "          dataTable['output_type'] = 'display_data';\n",
              "          await google.colab.output.renderOutput(dataTable, element);\n",
              "          const docLink = document.createElement('div');\n",
              "          docLink.innerHTML = docLinkHtml;\n",
              "          element.appendChild(docLink);\n",
              "        }\n",
              "      </script>\n",
              "    </div>\n",
              "  </div>\n",
              "  "
            ]
          },
          "metadata": {},
          "execution_count": 22
        }
      ]
    },
    {
      "cell_type": "markdown",
      "source": [
        "There are 979 Unique Job Titles with Data Scientist being the most used title with a frequency of 204 and 404 Unique Company Names with the company with the most listings being IBM with 37 listings."
      ],
      "metadata": {
        "id": "vrIgR6y404d3"
      }
    },
    {
      "cell_type": "markdown",
      "source": [
        "### 4.4. Checking for Null Values."
      ],
      "metadata": {
        "id": "W9nlaBi41Oy6"
      }
    },
    {
      "cell_type": "code",
      "source": [
        "df_jobs['title'].isna().sum()"
      ],
      "metadata": {
        "colab": {
          "base_uri": "https://localhost:8080/"
        },
        "id": "l-EcSMQX0xyh",
        "outputId": "4f874adb-866a-4a51-c409-ca5937db4a04"
      },
      "execution_count": 23,
      "outputs": [
        {
          "output_type": "execute_result",
          "data": {
            "text/plain": [
              "0"
            ]
          },
          "metadata": {},
          "execution_count": 23
        }
      ]
    },
    {
      "cell_type": "markdown",
      "source": [
        "There are no null values in the title column, so we can proceed with our analysis as title is really important to analyze the job listings."
      ],
      "metadata": {
        "id": "zVP5fQO-1VWc"
      }
    },
    {
      "cell_type": "markdown",
      "source": [
        "### 4.5. An Example Listing."
      ],
      "metadata": {
        "id": "oxV_A4ED1ajt"
      }
    },
    {
      "cell_type": "code",
      "source": [
        "from IPython.core.display import display, HTML\n",
        "display(HTML(html_contents[991]))"
      ],
      "metadata": {
        "colab": {
          "base_uri": "https://localhost:8080/",
          "height": 1000
        },
        "id": "qgvHQk081S3Z",
        "outputId": "8d07bb5d-714c-448f-e591-b0bb37f35b03"
      },
      "execution_count": 24,
      "outputs": [
        {
          "output_type": "display_data",
          "data": {
            "text/plain": [
              "<IPython.core.display.HTML object>"
            ],
            "text/html": [
              "<h1 class=\"icl-u-xs-mb--xs icl-u-xs-mt--none jobsearch-JobInfoHeader-title\">\n",
              " Senior Data Scientist\n",
              "</h1>\n",
              "<div class=\"jobsearch-InlineCompanyRating icl-u-xs-mt--xs jobsearch-DesktopStickyContainer-companyrating\">\n",
              " <div class=\"icl-u-lg-mr--sm icl-u-xs-mr--xs\">\n",
              "  Coursera\n",
              " </div>\n",
              "</div>\n",
              "<div>\n",
              " India\n",
              "</div>\n",
              "<div>\n",
              " <div>\n",
              "  <div>\n",
              "   Coursera was launched in 2012 by two Stanford Computer Science professors, Andrew Ng and Daphne Koller, with a mission to provide universal access to world-class learning. It is now one of the largest online learning platforms in the world, with 92 million registered learners as of Sept. 30, 2021. Coursera partners with over 250 leading university and industry partners to offer a broad catalog of content and credentials, including Guided Projects, courses, Specializations, certificates, and bachelor’s and master’s degrees. Institutions around the world use Coursera to upskill and reskill their employees, citizens, and students in many high-demand fields, including data science, technology, and business. Coursera became a B Corp in February 2021.\n",
              "  </div>\n",
              "  <div>\n",
              "  </div>\n",
              "  <div>\n",
              "   <br/>\n",
              "   At Coursera, our Data Science team is helping to build the future of education through data-driven decision making and data-powered products. We drive product and business strategy through measurement, experimentation, and causal inference. We define, develop, and launch the models and algorithms that power content discovery, personalized learning, and machine-assisted teaching and grading. We believe the next generation of teaching and learning should be personalized, accessible, and efficient. With our scale, data, technology, and talent, Coursera and its Data Science team are positioned to make that vision a reality.\n",
              "  </div>\n",
              "  <div>\n",
              "  </div>\n",
              "  <div>\n",
              "   <br/>\n",
              "   In this role, you will partner with our regional Marketing teams - focusing initially on India and Western Europe - to define localized strategies that take into account trends in each market and differences in learner needs and expectations. By helping to guide strategy, explore differences through behavioral data, and establish measurement plans for new initiatives, you will help the team craft regionally competent and globally scalable marketing plans and practices and pave the way for further investment in new markets around the world.\n",
              "  </div>\n",
              " </div>\n",
              " <br/>\n",
              " <div>\n",
              " </div>\n",
              " <div>\n",
              "  <div>\n",
              "   <h3 class=\"jobSectionHeader\">\n",
              "    <b>\n",
              "     Responsibilities:\n",
              "    </b>\n",
              "   </h3>\n",
              "   <ul>\n",
              "    <ul>\n",
              "     <li>\n",
              "      Analyze site behavior and channel response data to surface insights and strategic recommendations to better customize marketing efforts to new regions.\n",
              "     </li>\n",
              "     <li>\n",
              "      Work with marketers to define, execute, and analyze experiments that increase our understanding of how best to reach new and existing learners in priority regions.\n",
              "     </li>\n",
              "     <li>\n",
              "      Assist marketing and finance teams in defining goal metrics and setting targets for regional marketing initiatives and reporting progress against those goals back to leadership.\n",
              "     </li>\n",
              "     <li>\n",
              "      Collaborate with local corporate strategy, user research, and product marketing team members to identify and address strategic questions for priority regions.\n",
              "     </li>\n",
              "     <li>\n",
              "      Partner with data engineering and operations teams to ensure that business stakeholders have easy access to and training to accurate interpret key metrics that inform their day-to-day work.\n",
              "     </li>\n",
              "    </ul>\n",
              "   </ul>\n",
              "  </div>\n",
              " </div>\n",
              " <div>\n",
              "  <div>\n",
              "   <h3 class=\"jobSectionHeader\">\n",
              "    <b>\n",
              "     Basic Qualifications:\n",
              "    </b>\n",
              "   </h3>\n",
              "   <ul>\n",
              "    <ul>\n",
              "     <li>\n",
              "      4+ years of experience using data to advise product, business, or services teams\n",
              "     </li>\n",
              "     <li>\n",
              "      2+ years of experience applying statistical inference techniques to business questions\n",
              "     </li>\n",
              "    </ul>\n",
              "   </ul>\n",
              "  </div>\n",
              " </div>\n",
              " <div>\n",
              "  <div>\n",
              "   <h3 class=\"jobSectionHeader\">\n",
              "    <b>\n",
              "     Preferred Qualifications:\n",
              "    </b>\n",
              "   </h3>\n",
              "   <ul>\n",
              "    <ul>\n",
              "     <li>\n",
              "      Background in applied math, computer science, statistics, or a related technical fieldExcellent business intuition, cross-functional communication, and project management\n",
              "     </li>\n",
              "     <li>\n",
              "      Strong applied statistics and data visualization skills\n",
              "     </li>\n",
              "     <li>\n",
              "      Proficient with at least one scripting language (e.g. Python)\n",
              "     </li>\n",
              "     <li>\n",
              "      Proficient with at least one statistical software package (e.g. R, NumPy/SciPy/Pandas)\n",
              "     </li>\n",
              "     <li>\n",
              "      Proficient with relational databases and SQL\n",
              "     </li>\n",
              "    </ul>\n",
              "   </ul>\n",
              "  </div>\n",
              " </div>\n",
              " <div>\n",
              "  <div>\n",
              "   <b>\n",
              "    If this opportunity interests you, you might like these courses on Coursera:Drafting notes:\n",
              "   </b>\n",
              "   <b>\n",
              "    Marketing Analytics\n",
              "   </b>\n",
              "  </div>\n",
              "  <div>\n",
              "   <b>\n",
              "    Data-Driven Decision Making\n",
              "   </b>\n",
              "  </div>\n",
              "  <div>\n",
              "   <b>\n",
              "    Introduction to International Marketing\n",
              "   </b>\n",
              "  </div>\n",
              "  <div>\n",
              "  </div>\n",
              "  <div>\n",
              "   <br/>\n",
              "   Coursera is an Equal Employment Opportunity Employer and considers all qualified applicants without regard to race, color, religion, sex, sexual orientation, gender identity, age, marital status, national origin, protected veteran status, disability, or any other legally protected class.\n",
              "  </div>\n",
              "  <div>\n",
              "  </div>\n",
              "  <div>\n",
              "   <br/>\n",
              "   If you are an individual with a disability and require a reasonable accommodation to complete any part of the application process, please contact us at accommodations@coursera.org.\n",
              "   <br/>\n",
              "  </div>\n",
              "  <div>\n",
              "  </div>\n",
              "  <br/>\n",
              "  <div>\n",
              "   Please review our CCPA Applicant Notice here.\n",
              "  </div>\n",
              " </div>\n",
              "</div>"
            ]
          },
          "metadata": {}
        }
      ]
    },
    {
      "cell_type": "markdown",
      "source": [
        "**This was a listing we extracted from the https://in.indeed.com/ website after searching for Data Scientist in India.**\n",
        "\n",
        "The rendered job posting with a title, company name, location, brief position overview, responsibilities and quanifications. From this, we learn that the job entails surfacing insights from the data and provide strategic recommendations to better customize marketing efforts to the new region.\n",
        "\n",
        "The skills are further elaborated in the two bolded subsections: Responsibilities, Basic Qualifications and Preferred Qualifications. Each subsection is composed of multiple single-sentence bullet points. The bullets are varied in their content but it’s worth noting that the qualifications are not that different from the responsibilities.\n",
        "\n",
        "The qualifications focus on tools and concepts, while the responsibilities are more attuned to actions on the jobs; but in a way, their bullet points are interchangeable. Each bullet describes a skill that an applicant must have to perform well at the job. Thus, we can subdivide html_contents[0] into two conceptually different parts:\n",
        "\n",
        " - An initial job summary.\n",
        " - A list of bulleted skills required to get the job."
      ],
      "metadata": {
        "id": "AuKSGavr1mzh"
      }
    },
    {
      "cell_type": "markdown",
      "source": [
        "Now let us select another Random job posting to check if the Postings have a similar format."
      ],
      "metadata": {
        "id": "QFn6uz6Q2UwM"
      }
    },
    {
      "cell_type": "code",
      "source": [
        "display(HTML(html_contents[777]))"
      ],
      "metadata": {
        "colab": {
          "base_uri": "https://localhost:8080/",
          "height": 673
        },
        "id": "tQsi5t5e1d3Z",
        "outputId": "42b20687-fd26-41a8-c82a-2038d860b858"
      },
      "execution_count": 26,
      "outputs": [
        {
          "output_type": "display_data",
          "data": {
            "text/plain": [
              "<IPython.core.display.HTML object>"
            ],
            "text/html": [
              "<h1 class=\"icl-u-xs-mb--xs icl-u-xs-mt--none jobsearch-JobInfoHeader-title\">\n",
              " Staff Data Scientist\n",
              "</h1>\n",
              "<div class=\"jobsearch-InlineCompanyRating icl-u-xs-mt--xs jobsearch-DesktopStickyContainer-companyrating\">\n",
              " <div class=\"icl-u-lg-mr--sm icl-u-xs-mr--xs\">\n",
              "  <a href=\"https://in.indeed.com/cmp/Myntra.com?campaignid=mobvjcmp&amp;from=mobviewjob&amp;tk=1fmt8r1oit7ei801&amp;fromjk=c7698d036ee38881\" target=\"_blank\">\n",
              "   Myntra.com\n",
              "  </a>\n",
              " </div>\n",
              " <div class=\"icl-u-lg-block icl-u-lg-mr--sm icl-u-xs-hide\">\n",
              "  <div class=\"icl-Ratings icl-Ratings--sm icl-Ratings--gold\" itemscope=\"\" itemtype=\"http://schema.org/AggregateRating\">\n",
              "   <meta content=\"4.2\" itemprop=\"ratingValue\"/>\n",
              "   <meta content=\"244\" itemprop=\"ratingCount\"/>\n",
              "   <a aria-label=\"4.2 out of 5 stars from 244 employee ratings\" class=\"icl-Ratings-starsCountWrapper icl-Ratings-link\" href=\"https://in.indeed.com/cmp/Myntra.com/reviews?campaignid=mobvjcmp&amp;cmpratingc=mobviewjob&amp;from=mobviewjob&amp;tk=1fmt8r1oit7ei801&amp;fromjk=c7698d036ee38881&amp;jt=Staff+Data+Scientist\" target=\"_blank\">\n",
              "    <div class=\"icl-Ratings-starsWrapper\">\n",
              "     <div class=\"icl-Ratings-starsUnfilled\">\n",
              "      <div class=\"icl-Ratings-starsFilled\" style=\"width:52.2px\">\n",
              "      </div>\n",
              "     </div>\n",
              "    </div>\n",
              "    <div aria-hidden=\"true\" class=\"icl-Ratings-count\">\n",
              "     244 reviews\n",
              "    </div>\n",
              "   </a>\n",
              "  </div>\n",
              " </div>\n",
              "</div>\n",
              "<div>\n",
              " Bengaluru, Karnataka\n",
              "</div>\n",
              "<div>\n",
              " <p>\n",
              "  Myntra Data Science team delivers a large number of data science solutions for the company which are deployed at various customer touch points every quarter. The models create significant revenue and customer experience impact. The models involve real-time, near-real-time and offline solutions with varying latency requirements. The models are built using massive datasets. You will have the opportunity to be part of a rapidly growing organization and gain exposure to all the parts of a comprehensive ecommerce platform. You’ll also get to learn the intricacies of building models that serve millions of requests per second at sub second latency.\n",
              " </p>\n",
              " <p>\n",
              "  This is a delivery and people manager role where you will be guiding scientists to develop highly scalable ML models that power the customer experience across the Myntra app. You will manage a team of 5-6 high performing scientists and enable them to deliver business impact through ML models.\n",
              " </p>\n",
              " <p>\n",
              "  <b>\n",
              "   Essential skills:\n",
              "  </b>\n",
              " </p>\n",
              " <div>\n",
              "  <ul>\n",
              "   <li>\n",
              "    A postgraduate degree (Master’s or PhD) in Computer Science, Statistics, Operations Research or Mathematics from reputed institutions\n",
              "   </li>\n",
              "  </ul>\n",
              "  <ul>\n",
              "   <li>\n",
              "    Good exposure and command in one or more of the topics, such as Information Retrieval, NLP, Computer Vision, Recommender Systems or Search. Depth in one of these areas along with good breadth in general ML is expected.\n",
              "   </li>\n",
              "  </ul>\n",
              "  <ul>\n",
              "   <li>\n",
              "    Good understanding of fundamentals of computer science. Data structures, algorithms, coding, python libraries, compute infrastructure, and efficient processing of large datasets.\n",
              "   </li>\n",
              "  </ul>\n",
              "  <ul>\n",
              "   <li>\n",
              "    Well versed with Python ( Java - optional)\n",
              "   </li>\n",
              "  </ul>\n",
              "  <ul>\n",
              "   <li>\n",
              "    8+ years of experience of which at least 3 years leading teams to build high impact ML models in industry\n",
              "   </li>\n",
              "  </ul>\n",
              "  <ul>\n",
              "   <li>\n",
              "    Demonstrable depth and width of problem solving\n",
              "   </li>\n",
              "  </ul>\n",
              "  <ul>\n",
              "   <li>\n",
              "    Ability to interact with stakeholders such as product managers, program managers, engineering &amp; business teams\n",
              "   </li>\n",
              "  </ul>\n",
              " </div>\n",
              " <p>\n",
              "  <b>\n",
              "   Attributes:\n",
              "  </b>\n",
              " </p>\n",
              " <div>\n",
              "  <ul>\n",
              "   <li>\n",
              "    Interest in solving e-commerce problems that deliver business value\n",
              "   </li>\n",
              "  </ul>\n",
              "  <ul>\n",
              "   <li>\n",
              "    Genuine interest in growing high performing ML teams\n",
              "   </li>\n",
              "  </ul>\n",
              " </div>\n",
              " <p>\n",
              "  <b>\n",
              "   Team culture/tenets:\n",
              "  </b>\n",
              " </p>\n",
              " <ul>\n",
              "  <li>\n",
              "   We are an applied ML team with a very open and hierarchy-free culture when it comes to discussing ideas and solutions\n",
              "  </li>\n",
              "  <li>\n",
              "   We hold each other to high standards and believe in an innovation focused culture\n",
              "  </li>\n",
              "  <li>\n",
              "   We don’t stop at ideas but create scalable implementations that deliver A/B tested benefit to the organization\n",
              "  </li>\n",
              "  <li>\n",
              "   We publish in leading ML, NLP and CV conferences (SIGIR, RecSys, KDD, ICML, ICCV, CVPR, ACL, NAACL) and have also filed several patents\n",
              "  </li>\n",
              " </ul>\n",
              "</div>"
            ]
          },
          "metadata": {}
        }
      ]
    },
    {
      "cell_type": "markdown",
      "source": [
        "This job posting is for a Staff Data Scientist position at myntra.com in Bengaluru, Karnataka. The structure is similar to the previous posting. The job is summarized in the post’s initial paragraph, and then the required skills are presented in bullet points. These bulleted skills are varied in terms of technical requirements and details.\n",
        "\n",
        "The bullet points in listing 991 and in listing 777 serve a singular purpose: they offer us brief, sentence-length descriptions of unique skills required for each position."
      ],
      "metadata": {
        "id": "rf3EUze_2efT"
      }
    },
    {
      "cell_type": "markdown",
      "source": [
        "We will extract the bullets from each of our parsed HTML files to find out if the bullet skill descriptions appear in other job posts."
      ],
      "metadata": {
        "id": "7c7xu7XL2j6B"
      }
    },
    {
      "cell_type": "markdown",
      "source": [
        "### 4.6. Extracting bullets from the HTML"
      ],
      "metadata": {
        "id": "lTbpxqiw2osQ"
      }
    },
    {
      "cell_type": "code",
      "source": [
        "# bullet.text.strip() Strips the line break from each bullet to avoid printing \n",
        "# the line breaks in our later investigations\n",
        "df_jobs['Bullets'] = [[bullet.text.strip() for bullet in soup.find_all('li')] for soup in soup_objects]"
      ],
      "metadata": {
        "id": "Ltrdepzz2X5b"
      },
      "execution_count": 27,
      "outputs": []
    },
    {
      "cell_type": "markdown",
      "source": [
        "The bullets in each job posting are stored in Bullets of the df_jobs dataframe. However, it is possible that some of the postings don’t include any bullets."
      ],
      "metadata": {
        "id": "UVdNdjy13AT_"
      }
    },
    {
      "cell_type": "markdown",
      "source": [
        "### 4.7. Measuring the percent of bulleted postings"
      ],
      "metadata": {
        "id": "Eb-f9ven3C3_"
      }
    },
    {
      "cell_type": "code",
      "source": [
        "bulleted_post_count = 0\n",
        "for bullet_list in df_jobs['Bullets']:\n",
        "    if bullet_list:\n",
        "        bulleted_post_count += 1\n",
        "percent_bulleted = 100 * bulleted_post_count / df_jobs.shape[0]\n",
        "print(f\"{percent_bulleted:.2f}% of the postings contain bullets\")"
      ],
      "metadata": {
        "colab": {
          "base_uri": "https://localhost:8080/"
        },
        "id": "qPIk8Nra29-x",
        "outputId": "b61918b1-742f-4ff7-b799-39e0419fe6ad"
      },
      "execution_count": 28,
      "outputs": [
        {
          "output_type": "stream",
          "name": "stdout",
          "text": [
            "86.12% of the postings contain bullets\n"
          ]
        }
      ]
    },
    {
      "cell_type": "markdown",
      "source": [
        "To understand the contents of the bullet points we can print the top-ranked words in their text. We can rank these words by carrying out the ranking using term frequency inverse document frequency (TFIDF) values rather than raw counts. TFIDF rankings are less likely to contain irrelevant words.\n",
        "\n",
        "Next, we rank the words using summed TFIDF values. First we compute a TFIDF matrix in which rows correspond to individual bullets. Then we sum across the rows of the matrix: these sums are used to rank the words, which correspond to matrix columns. Finally, we check the top five ranked words for skill-related terminology."
      ],
      "metadata": {
        "id": "nDQaQbCR3Lw8"
      }
    },
    {
      "cell_type": "markdown",
      "source": [
        "### 4.8. Examining the top-ranked words in the bullets."
      ],
      "metadata": {
        "id": "tw3MXcXA3Y_g"
      }
    },
    {
      "cell_type": "code",
      "source": [
        "import pandas as pd\n",
        "from sklearn.feature_extraction.text import TfidfVectorizer"
      ],
      "metadata": {
        "id": "wChFKcBi3e7n"
      },
      "execution_count": 29,
      "outputs": []
    },
    {
      "cell_type": "code",
      "source": [
        "def rank_words(text_list):\n",
        "    \"\"\"\n",
        "      Returns a sorted Pandas table of top-ranked words\n",
        "      args: text_list: input list of text\n",
        "    \"\"\"\n",
        "    # initialize the tfidf vectorizer using stop words in english\n",
        "    vectorizer = TfidfVectorizer(stop_words='english')\n",
        "    # fit the vectorizer to the input text list and convert it to an array\n",
        "    tfidf_matrix = vectorizer.fit_transform(text_list).toarray()\n",
        "    # create a dataframe to store the words with their tfidf scores\n",
        "    df = pd.DataFrame({'Words': vectorizer.get_feature_names(),\n",
        "                       'Summed TFIDF': tfidf_matrix.sum(axis=0)})\n",
        "    # sort the dataframe according to the tfidf scores\n",
        "    sorted_df = df.sort_values('Summed TFIDF', ascending=False)\n",
        "    return sorted_df"
      ],
      "metadata": {
        "id": "sPwAqZv33JA3"
      },
      "execution_count": 32,
      "outputs": []
    },
    {
      "cell_type": "code",
      "source": [
        "all_bullets = []\n",
        "\n",
        "# store all the bullets in a list\n",
        "for bullet_list in df_jobs['Bullets']:\n",
        "    all_bullets.extend(bullet_list)\n",
        "\n",
        "# rank all the words from the bullets\n",
        "sorted_df = rank_words(all_bullets)\n",
        "print(sorted_df[:5].to_string(index=False))"
      ],
      "metadata": {
        "colab": {
          "base_uri": "https://localhost:8080/"
        },
        "id": "vA8uTdPZ4qmK",
        "outputId": "cc4cc56b-a591-4e5b-a92e-909481830620"
      },
      "execution_count": 33,
      "outputs": [
        {
          "output_type": "stream",
          "name": "stdout",
          "text": [
            "     Words  Summed TFIDF\n",
            "      data   1268.549381\n",
            "experience   1114.200969\n",
            "  learning    585.266786\n",
            "      work    565.704799\n",
            "    skills    565.142082\n"
          ]
        }
      ]
    },
    {
      "cell_type": "markdown",
      "source": [
        "Words like data, experience, learning, work and skills appear among the top five bulleted words. There’s reasonable evidence that the bullets correspond to individual job skills.\n",
        "\n",
        "Next we will check how the bulleted words compare to the remaining words in each job posting by iterating over the body of each posting and delete any bulleted lists using Beautiful Soup’s decompose method. Then we extract the remaining body text and store it in a non_bullets list. Finally, we apply our rank_words function to that list and display the top five non-bullet words."
      ],
      "metadata": {
        "id": "_brHM6wO4EpM"
      }
    },
    {
      "cell_type": "markdown",
      "source": [
        "### 4.9. Examining the top-ranked words in the the description except the bullets."
      ],
      "metadata": {
        "id": "zo_5zlIz5YcS"
      }
    },
    {
      "cell_type": "code",
      "source": [
        "non_bullets = []\n",
        "for soup in soup_objects:\n",
        "    body = soup.body\n",
        "    for tag in body.find_all('li'):\n",
        "        tag.decompose()\n",
        "    non_bullets.append(body.text)\n",
        "    \n",
        "sorted_df = rank_words(non_bullets)\n",
        "print(sorted_df[:5].to_string(index=False))"
      ],
      "metadata": {
        "colab": {
          "base_uri": "https://localhost:8080/"
        },
        "id": "R93xk22P5Wma",
        "outputId": "4fd3e946-58a3-47d0-dad5-d499e462adec"
      },
      "execution_count": 35,
      "outputs": [
        {
          "output_type": "stream",
          "name": "stdout",
          "text": [
            "     Words  Summed TFIDF\n",
            "      data    153.474594\n",
            "experience     81.848449\n",
            "       job     70.631671\n",
            "      work     70.048442\n",
            "    skills     63.047988\n"
          ]
        }
      ]
    },
    {
      "cell_type": "markdown",
      "source": [
        "The non bulleted text seems to contain more of things like experiance, job, work, data and skills. These seem to be quite similar corrosponding to the bulleted materails."
      ],
      "metadata": {
        "id": "nMLtBxJp58VB"
      }
    },
    {
      "cell_type": "markdown",
      "source": [
        "Next we will check how the percentage of titles that has Data Scientist mentioned in their names."
      ],
      "metadata": {
        "id": "JFH2MctN5_FX"
      }
    },
    {
      "cell_type": "markdown",
      "source": [
        "### 4.10. Checking titles for references to data science positions."
      ],
      "metadata": {
        "id": "8qdREc7_6B2_"
      }
    },
    {
      "cell_type": "code",
      "source": [
        "from sklearn.utils import shuffle"
      ],
      "metadata": {
        "id": "TjGsfX976I1P"
      },
      "execution_count": 36,
      "outputs": []
    },
    {
      "cell_type": "code",
      "source": [
        "regex = r'Data Scien(ce|tist)'\n",
        "df_non_ds_jobs = df_jobs[~df_jobs.title.str.contains(regex, case=False)]\n",
        "\n",
        "percent_non_ds = 100 * df_non_ds_jobs.shape[0] / df_jobs.shape[0]\n",
        "print(f\"{percent_non_ds:.2f}% of the job posting titles do not mention a data science position.\")"
      ],
      "metadata": {
        "colab": {
          "base_uri": "https://localhost:8080/"
        },
        "id": "XR8a5-PY6PjG",
        "outputId": "cb52192b-7e05-4952-b8f0-17688ff8dc60"
      },
      "execution_count": 37,
      "outputs": [
        {
          "output_type": "stream",
          "name": "stdout",
          "text": [
            "68.90% of the job posting titles do not mention a data science position.\n"
          ]
        }
      ]
    },
    {
      "cell_type": "code",
      "source": [
        "# Let's shuffle the df_non_ds_jobs DataFrame\n",
        "df_non_ds_jobs = shuffle(df_non_ds_jobs)\n",
        "df_non_ds_jobs.reset_index(inplace=True, drop=True)\n",
        "\n",
        "print('These are the samples of such titles: - ')\n",
        "for title in df_non_ds_jobs.title[:15]:\n",
        "    print(title)"
      ],
      "metadata": {
        "colab": {
          "base_uri": "https://localhost:8080/"
        },
        "id": "DDXInYgM4Chv",
        "outputId": "85bbae11-631c-4480-9aff-bc6e542f742d"
      },
      "execution_count": 38,
      "outputs": [
        {
          "output_type": "stream",
          "name": "stdout",
          "text": [
            "These are the samples of such titles: - \n",
            "Data Engineer - Azure\n",
            "Engineer - CFD\n",
            "Associate Data Engineer\n",
            "Data Engineer\n",
            "Associate Software Engineer\n",
            "Senior Associate - Machine Learning Engineer\n",
            "Engineer IIOT\n",
            "Cloud Engineer in Machine Learning area\n",
            "Sr. Machine Learning Engineer, SMAI\n",
            "Solution Consultant - MDM\n",
            "2A_Business Analyst Trainee_SQL\n",
            "ETL Principal Software Engineer\n",
            "Machine Learning Engineer (Remote)\n",
            "Data Analyst (UK Pathways Admissions)\n",
            "Quantitative Engineer - Eqs Sts Strats\n"
          ]
        }
      ]
    },
    {
      "cell_type": "markdown",
      "source": [
        "68.90% of the job posting titles do not mention a data science position. However, from our sampled output, we can glean the alternative language that can be used to describe a data science job. A posting may call for a Machine Learning Engineer, a AI/ML Engineer, or a Python NLP Developer."
      ],
      "metadata": {
        "id": "Qv5_obnV6XqU"
      }
    },
    {
      "cell_type": "markdown",
      "source": [
        "We will Obtain relevant job postings that partially match our existing skill set and examine which bullet points in these postings are missing from our existing skill set. With this strategy in mind, we’ll now filter the jobs by relevance."
      ],
      "metadata": {
        "id": "dsw1qKfW7IXd"
      }
    },
    {
      "cell_type": "code",
      "source": [
        ""
      ],
      "metadata": {
        "id": "RVAQmXzT6UJB"
      },
      "execution_count": null,
      "outputs": []
    }
  ]
}